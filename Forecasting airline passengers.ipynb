{
 "cells": [
  {
   "cell_type": "code",
   "execution_count": 1,
   "id": "440d368c",
   "metadata": {},
   "outputs": [],
   "source": [
    "import pandas as pd\n",
    "import numpy as np\n",
    "import seaborn as sns\n",
    "import matplotlib.pyplot as plt"
   ]
  },
  {
   "cell_type": "markdown",
   "id": "c7864048",
   "metadata": {},
   "source": [
    "### Problem Statement:\n",
    "An airline company has the data of the number of passengers that have travelled with them on a particular route for the past few years. They want to see if they can forecast the number of passengers for the next 2 years."
   ]
  },
  {
   "cell_type": "code",
   "execution_count": 2,
   "id": "55f3d171",
   "metadata": {},
   "outputs": [],
   "source": [
    "df=pd.read_csv(\"https://raw.githubusercontent.com/Premalatha-success/Datasets/main/airline-passenger-traffic.csv\")"
   ]
  },
  {
   "cell_type": "code",
   "execution_count": 3,
   "id": "6d1351f1",
   "metadata": {},
   "outputs": [
    {
     "data": {
      "text/html": [
       "<div>\n",
       "<style scoped>\n",
       "    .dataframe tbody tr th:only-of-type {\n",
       "        vertical-align: middle;\n",
       "    }\n",
       "\n",
       "    .dataframe tbody tr th {\n",
       "        vertical-align: top;\n",
       "    }\n",
       "\n",
       "    .dataframe thead th {\n",
       "        text-align: right;\n",
       "    }\n",
       "</style>\n",
       "<table border=\"1\" class=\"dataframe\">\n",
       "  <thead>\n",
       "    <tr style=\"text-align: right;\">\n",
       "      <th></th>\n",
       "      <th>1949-01</th>\n",
       "      <th>112</th>\n",
       "    </tr>\n",
       "  </thead>\n",
       "  <tbody>\n",
       "    <tr>\n",
       "      <th>0</th>\n",
       "      <td>1949-02</td>\n",
       "      <td>118.0</td>\n",
       "    </tr>\n",
       "    <tr>\n",
       "      <th>1</th>\n",
       "      <td>1949-03</td>\n",
       "      <td>132.0</td>\n",
       "    </tr>\n",
       "    <tr>\n",
       "      <th>2</th>\n",
       "      <td>1949-04</td>\n",
       "      <td>129.0</td>\n",
       "    </tr>\n",
       "    <tr>\n",
       "      <th>3</th>\n",
       "      <td>1949-05</td>\n",
       "      <td>121.0</td>\n",
       "    </tr>\n",
       "    <tr>\n",
       "      <th>4</th>\n",
       "      <td>1949-06</td>\n",
       "      <td>135.0</td>\n",
       "    </tr>\n",
       "  </tbody>\n",
       "</table>\n",
       "</div>"
      ],
      "text/plain": [
       "   1949-01    112\n",
       "0  1949-02  118.0\n",
       "1  1949-03  132.0\n",
       "2  1949-04  129.0\n",
       "3  1949-05  121.0\n",
       "4  1949-06  135.0"
      ]
     },
     "execution_count": 3,
     "metadata": {},
     "output_type": "execute_result"
    }
   ],
   "source": [
    "df.head()"
   ]
  },
  {
   "cell_type": "code",
   "execution_count": 4,
   "id": "234d3256",
   "metadata": {},
   "outputs": [
    {
     "data": {
      "text/plain": [
       "(143, 2)"
      ]
     },
     "execution_count": 4,
     "metadata": {},
     "output_type": "execute_result"
    }
   ],
   "source": [
    "df.shape"
   ]
  },
  {
   "cell_type": "code",
   "execution_count": 5,
   "id": "7e08aadf",
   "metadata": {},
   "outputs": [
    {
     "data": {
      "text/plain": [
       "1949-01    0\n",
       "112        4\n",
       "dtype: int64"
      ]
     },
     "execution_count": 5,
     "metadata": {},
     "output_type": "execute_result"
    }
   ],
   "source": [
    "df.isnull().sum()"
   ]
  },
  {
   "cell_type": "code",
   "execution_count": 6,
   "id": "207ba002",
   "metadata": {},
   "outputs": [
    {
     "data": {
      "text/plain": [
       "1949-01     object\n",
       "112        float64\n",
       "dtype: object"
      ]
     },
     "execution_count": 6,
     "metadata": {},
     "output_type": "execute_result"
    }
   ],
   "source": [
    "df.dtypes"
   ]
  },
  {
   "cell_type": "code",
   "execution_count": 7,
   "id": "9f37ea9c",
   "metadata": {},
   "outputs": [
    {
     "data": {
      "text/plain": [
       "281.9496402877698"
      ]
     },
     "execution_count": 7,
     "metadata": {},
     "output_type": "execute_result"
    }
   ],
   "source": [
    "df['112']=df['112'].replace(to_replace=0, value=np.nan)\n",
    "df['112']=df['112'].astype(float)\n",
    "mean=df['112'].mean()\n",
    "df['112'].replace(np.nan,mean,inplace=True)\n",
    "mean"
   ]
  },
  {
   "cell_type": "code",
   "execution_count": 8,
   "id": "f61a798f",
   "metadata": {},
   "outputs": [
    {
     "name": "stdout",
     "output_type": "stream",
     "text": [
      "0\n"
     ]
    },
    {
     "data": {
      "text/html": [
       "<div>\n",
       "<style scoped>\n",
       "    .dataframe tbody tr th:only-of-type {\n",
       "        vertical-align: middle;\n",
       "    }\n",
       "\n",
       "    .dataframe tbody tr th {\n",
       "        vertical-align: top;\n",
       "    }\n",
       "\n",
       "    .dataframe thead th {\n",
       "        text-align: right;\n",
       "    }\n",
       "</style>\n",
       "<table border=\"1\" class=\"dataframe\">\n",
       "  <thead>\n",
       "    <tr style=\"text-align: right;\">\n",
       "      <th></th>\n",
       "      <th>1949-01</th>\n",
       "      <th>112</th>\n",
       "    </tr>\n",
       "  </thead>\n",
       "  <tbody>\n",
       "  </tbody>\n",
       "</table>\n",
       "</div>"
      ],
      "text/plain": [
       "Empty DataFrame\n",
       "Columns: [1949-01, 112]\n",
       "Index: []"
      ]
     },
     "execution_count": 8,
     "metadata": {},
     "output_type": "execute_result"
    }
   ],
   "source": [
    "duplicate=df.duplicated()\n",
    "print(duplicate.sum())\n",
    "df[duplicate]"
   ]
  },
  {
   "cell_type": "code",
   "execution_count": 9,
   "id": "732f00eb",
   "metadata": {},
   "outputs": [],
   "source": [
    "df = df.rename(columns={'1949-01': 'Date','112':'No.of Passengers'})"
   ]
  },
  {
   "cell_type": "code",
   "execution_count": 10,
   "id": "48850619",
   "metadata": {},
   "outputs": [],
   "source": [
    "df['Date']=pd.to_datetime(df['Date'])"
   ]
  },
  {
   "cell_type": "code",
   "execution_count": 11,
   "id": "95d9bb93",
   "metadata": {},
   "outputs": [
    {
     "name": "stdout",
     "output_type": "stream",
     "text": [
      "<class 'pandas.core.frame.DataFrame'>\n",
      "RangeIndex: 143 entries, 0 to 142\n",
      "Data columns (total 2 columns):\n",
      " #   Column            Non-Null Count  Dtype         \n",
      "---  ------            --------------  -----         \n",
      " 0   Date              143 non-null    datetime64[ns]\n",
      " 1   No.of Passengers  143 non-null    float64       \n",
      "dtypes: datetime64[ns](1), float64(1)\n",
      "memory usage: 2.4 KB\n"
     ]
    }
   ],
   "source": [
    "df.info()"
   ]
  },
  {
   "cell_type": "code",
   "execution_count": 12,
   "id": "8711ab01",
   "metadata": {},
   "outputs": [
    {
     "data": {
      "text/plain": [
       "DatetimeIndex(['1949-02-01', '1949-03-01', '1949-04-01', '1949-05-01',\n",
       "               '1949-06-01', '1949-07-01', '1949-08-01', '1949-09-01',\n",
       "               '1949-10-01', '1949-11-01',\n",
       "               ...\n",
       "               '1960-03-01', '1960-04-01', '1960-05-01', '1960-06-01',\n",
       "               '1960-07-01', '1960-08-01', '1960-09-01', '1960-10-01',\n",
       "               '1960-11-01', '1960-12-01'],\n",
       "              dtype='datetime64[ns]', name='Date', length=143, freq=None)"
      ]
     },
     "execution_count": 12,
     "metadata": {},
     "output_type": "execute_result"
    }
   ],
   "source": [
    "df.set_index('Date',inplace=True)\n",
    "df.index"
   ]
  },
  {
   "cell_type": "code",
   "execution_count": 13,
   "id": "b460a0ae",
   "metadata": {},
   "outputs": [
    {
     "data": {
      "text/plain": [
       "Date\n",
       "1949-12-31    128.000000\n",
       "1950-12-31    139.666667\n",
       "1951-12-31    185.741607\n",
       "1952-12-31    197.000000\n",
       "1953-12-31    225.000000\n",
       "1954-12-31    240.412470\n",
       "1955-12-31    284.000000\n",
       "1956-12-31    328.250000\n",
       "1957-12-31    368.416667\n",
       "1958-12-31    381.000000\n",
       "Freq: A-DEC, Name: No.of Passengers, dtype: float64"
      ]
     },
     "execution_count": 13,
     "metadata": {},
     "output_type": "execute_result"
    }
   ],
   "source": [
    "y=df['No.of Passengers'].resample('Y').mean()\n",
    "\n",
    "y.head(10)"
   ]
  },
  {
   "cell_type": "code",
   "execution_count": 14,
   "id": "73538451",
   "metadata": {},
   "outputs": [
    {
     "data": {
      "text/plain": [
       "0"
      ]
     },
     "execution_count": 14,
     "metadata": {},
     "output_type": "execute_result"
    }
   ],
   "source": [
    "y.isnull().sum()"
   ]
  },
  {
   "cell_type": "code",
   "execution_count": 15,
   "id": "4d09490c",
   "metadata": {},
   "outputs": [
    {
     "data": {
      "image/png": "[encoded data removed]",
      "text/plain": [
       "<Figure size 1080x432 with 1 Axes>"
      ]
     },
     "metadata": {
      "needs_background": "light"
     },
     "output_type": "display_data"
    }
   ],
   "source": [
    "y.plot(figsize=(15,6))\n",
    "plt.show()"
   ]
  },
  {
   "cell_type": "code",
   "execution_count": 16,
   "id": "cdb0b017",
   "metadata": {},
   "outputs": [
    {
     "name": "stderr",
     "output_type": "stream",
     "text": [
      "C:\\Users\\Murali krishna\\anaconda3\\lib\\site-packages\\statsmodels\\tsa\\base\\tsa_model.py:7: FutureWarning: pandas.Int64Index is deprecated and will be removed from pandas in a future version. Use pandas.Index with the appropriate dtype instead.\n",
      "  from pandas import (to_datetime, Int64Index, DatetimeIndex, Period,\n",
      "C:\\Users\\Murali krishna\\anaconda3\\lib\\site-packages\\statsmodels\\tsa\\base\\tsa_model.py:7: FutureWarning: pandas.Float64Index is deprecated and will be removed from pandas in a future version. Use pandas.Index with the appropriate dtype instead.\n",
      "  from pandas import (to_datetime, Int64Index, DatetimeIndex, Period,\n"
     ]
    },
    {
     "data": {
      "image/png": "[encoded data removed]",
      "text/plain": [
       "<Figure size 864x576 with 4 Axes>"
      ]
     },
     "metadata": {
      "needs_background": "light"
     },
     "output_type": "display_data"
    }
   ],
   "source": [
    "import statsmodels.api as sm\n",
    "import warnings\n",
    "warnings.filterwarnings(\"ignore\")\n",
    "from pylab import rcParams\n",
    "\n",
    "rcParams['figure.figsize']=12,8\n",
    "\n",
    "decomposition=sm.tsa.seasonal_decompose(y,model='additive')\n",
    "\n",
    "fig=decomposition.plot()\n",
    "\n",
    "plt.show()"
   ]
  },
  {
   "cell_type": "markdown",
   "id": "b290ca56",
   "metadata": {},
   "source": [
    "### There is no sessionality and error.Trend is upwards trend"
   ]
  },
  {
   "cell_type": "markdown",
   "id": "06ea8808",
   "metadata": {},
   "source": [
    "### Here Additive model is used and is best when sessionality is constant over time"
   ]
  },
  {
   "cell_type": "markdown",
   "id": "f72d165a",
   "metadata": {},
   "source": [
    "### Using Augmented Dickey-Fuller Test to test Stationarity.\n",
    "#### Null Hypothesis:Data is non-stationary.\n",
    "#### Alternate Hypothesis:Data is stationary.\n",
    "#### if ADF Statistics<Critical values then Null Hypothesis is rejected i.e, Data is Stationary."
   ]
  },
  {
   "cell_type": "code",
   "execution_count": 17,
   "id": "d012084b",
   "metadata": {},
   "outputs": [
    {
     "name": "stdout",
     "output_type": "stream",
     "text": [
      "ADF Statistic: 1.719038\n",
      "P-value: 0.998174\n",
      "Critical Values:\n",
      "\t1%: -4.939\n",
      "\t5%: -3.478\n",
      "\t10%: -2.844\n"
     ]
    }
   ],
   "source": [
    "from statsmodels.tsa.stattools import adfuller\n",
    "from pandas import Series\n",
    "result=adfuller(y)\n",
    "print('ADF Statistic: %f' % result[0])\n",
    "print('P-value: %f' % result[1])\n",
    "print('Critical Values:')\n",
    "for key,value in result[4].items():\n",
    "    print('\\t%s: %.3f' % (key,value))"
   ]
  },
  {
   "cell_type": "markdown",
   "id": "c48ea586",
   "metadata": {},
   "source": [
    "### Here Statistic value is greater than critical values  i.e,Fail to reject the null hypothesis (H0), the data has a unit root and is non-stationary."
   ]
  },
  {
   "cell_type": "markdown",
   "id": "2b2d3e5b",
   "metadata": {},
   "source": [
    "### Applying log transformation to the data to make non-stationary to Stationary"
   ]
  },
  {
   "cell_type": "code",
   "execution_count": 18,
   "id": "14957dce",
   "metadata": {},
   "outputs": [
    {
     "name": "stdout",
     "output_type": "stream",
     "text": [
      "ADF Statistic: -2.188563\n",
      "p-value: 0.210422\n",
      "\t1%: -4.939\n",
      "\t5%: -3.478\n",
      "\t10%: -2.844\n"
     ]
    }
   ],
   "source": [
    "from pandas import read_csv\n",
    "from statsmodels.tsa.stattools import adfuller\n",
    "from numpy import log\n",
    "y = log(y)\n",
    "result = adfuller(y)\n",
    "print('ADF Statistic: %f' % result[0])\n",
    "print('p-value: %f' % result[1])\n",
    "for key, value in result[4].items():\n",
    "    print('\\t%s: %.3f' % (key, value))"
   ]
  },
  {
   "cell_type": "markdown",
   "id": "3986bd40",
   "metadata": {},
   "source": [
    "### Here the data is still non-stationary"
   ]
  },
  {
   "cell_type": "markdown",
   "id": "cd875752",
   "metadata": {},
   "source": [
    "### Applying Manual Differencing transformation"
   ]
  },
  {
   "cell_type": "code",
   "execution_count": 19,
   "id": "e7aa938f",
   "metadata": {},
   "outputs": [
    {
     "name": "stdout",
     "output_type": "stream",
     "text": [
      "ADF Statistic: -4.245995\n",
      "p-value: 0.000550\n",
      "\t1%: -4.332\n",
      "\t5%: -3.233\n",
      "\t10%: -2.749\n"
     ]
    }
   ],
   "source": [
    "# create a differenced series\n",
    "def difference(y, interval=1):\n",
    "    diff = list()\n",
    "    for i in range(interval, len(y)):\n",
    "        value = y[i] - y[i - interval]\n",
    "        diff.append(value)\n",
    "    return Series(diff)\n",
    "diff = difference(y)\n",
    "#pyplot.plot(diff)\n",
    "#pyplot.show()\n",
    "result = adfuller(diff)\n",
    "print('ADF Statistic: %f' % result[0])\n",
    "print('p-value: %f' % result[1])\n",
    "for key, value in result[4].items():\n",
    "    print('\\t%s: %.3f' % (key, value))"
   ]
  },
  {
   "cell_type": "markdown",
   "id": "39a9b324",
   "metadata": {},
   "source": [
    "### Statistics value is less than 5% critical value ,hence the data became Stationary at 5% Critical value."
   ]
  },
  {
   "cell_type": "markdown",
   "id": "1c366c1d",
   "metadata": {},
   "source": [
    "## Applying ARIMA model for Forecasting"
   ]
  },
  {
   "cell_type": "code",
   "execution_count": 20,
   "id": "fa3ee344",
   "metadata": {},
   "outputs": [
    {
     "name": "stdout",
     "output_type": "stream",
     "text": [
      "Examples of parameter combinations for Seasonal ARIMA...\n",
      "SARIMAX: (0, 0, 1) x (0, 0, 1, 12)\n",
      "SARIMAX: (0, 0, 1) x (0, 1, 0, 12)\n",
      "SARIMAX: (0, 1, 0) x (0, 1, 1, 12)\n",
      "SARIMAX: (0, 1, 0) x (1, 0, 0, 12)\n"
     ]
    }
   ],
   "source": [
    "import statsmodels.api as sm\n",
    "import itertools\n",
    "p=d=q=range(0,2)\n",
    "pdq=list(itertools.product(p,d,q))\n",
    "seasonal_pdq=[(x[0],x[1],x[2],12) for x in list(itertools.product(p,d,q))]\n",
    "print('Examples of parameter combinations for Seasonal ARIMA...')\n",
    "print('SARIMAX: {} x {}'.format(pdq[1],seasonal_pdq[1]))\n",
    "print('SARIMAX: {} x {}'.format(pdq[1],seasonal_pdq[2]))\n",
    "print('SARIMAX: {} x {}'.format(pdq[2],seasonal_pdq[3]))\n",
    "print('SARIMAX: {} x {}'.format(pdq[2],seasonal_pdq[4]))"
   ]
  },
  {
   "cell_type": "code",
   "execution_count": 21,
   "id": "851c0aa6",
   "metadata": {},
   "outputs": [
    {
     "name": "stdout",
     "output_type": "stream",
     "text": [
      "ARIMA(0, 0, 0)x(0, 0, 0, 12)12 -AIC:71.25023986843091\n",
      "ARIMA(0, 0, 0)x(0, 0, 1, 12)12 -AIC:4.0\n",
      "ARIMA(0, 0, 0)x(0, 1, 0, 12)12 -AIC:2.0\n",
      "ARIMA(0, 0, 0)x(0, 1, 1, 12)12 -AIC:4.0\n",
      "ARIMA(0, 0, 0)x(1, 0, 0, 12)12 -AIC:4.0\n",
      "ARIMA(0, 0, 0)x(1, 0, 1, 12)12 -AIC:6.0\n",
      "ARIMA(0, 0, 0)x(1, 1, 0, 12)12 -AIC:4.0\n",
      "ARIMA(0, 0, 0)x(1, 1, 1, 12)12 -AIC:6.0\n",
      "ARIMA(0, 0, 1)x(0, 0, 0, 12)12 -AIC:56.59384174694575\n",
      "ARIMA(0, 0, 1)x(0, 0, 1, 12)12 -AIC:6.0\n",
      "ARIMA(0, 0, 1)x(0, 1, 0, 12)12 -AIC:4.0\n",
      "ARIMA(0, 0, 1)x(0, 1, 1, 12)12 -AIC:6.0\n",
      "ARIMA(0, 0, 1)x(1, 0, 0, 12)12 -AIC:6.0\n",
      "ARIMA(0, 0, 1)x(1, 0, 1, 12)12 -AIC:8.0\n",
      "ARIMA(0, 0, 1)x(1, 1, 0, 12)12 -AIC:6.0\n",
      "ARIMA(0, 0, 1)x(1, 1, 1, 12)12 -AIC:8.0\n",
      "ARIMA(0, 1, 0)x(0, 0, 0, 12)12 -AIC:-9.23609509577485\n",
      "ARIMA(0, 1, 0)x(0, 0, 1, 12)12 -AIC:4.0\n",
      "ARIMA(0, 1, 0)x(0, 1, 0, 12)12 -AIC:2.0\n",
      "ARIMA(0, 1, 0)x(0, 1, 1, 12)12 -AIC:4.0\n",
      "ARIMA(0, 1, 0)x(1, 0, 0, 12)12 -AIC:4.0\n",
      "ARIMA(0, 1, 0)x(1, 0, 1, 12)12 -AIC:6.0\n",
      "ARIMA(0, 1, 0)x(1, 1, 0, 12)12 -AIC:4.0\n",
      "ARIMA(0, 1, 0)x(1, 1, 1, 12)12 -AIC:6.0\n",
      "ARIMA(0, 1, 1)x(0, 0, 0, 12)12 -AIC:-13.231016540515778\n",
      "ARIMA(0, 1, 1)x(0, 0, 1, 12)12 -AIC:6.0\n",
      "ARIMA(0, 1, 1)x(0, 1, 0, 12)12 -AIC:4.0\n",
      "ARIMA(0, 1, 1)x(0, 1, 1, 12)12 -AIC:6.0\n",
      "ARIMA(0, 1, 1)x(1, 0, 0, 12)12 -AIC:6.0\n",
      "ARIMA(0, 1, 1)x(1, 0, 1, 12)12 -AIC:8.0\n",
      "ARIMA(0, 1, 1)x(1, 1, 0, 12)12 -AIC:6.0\n",
      "ARIMA(0, 1, 1)x(1, 1, 1, 12)12 -AIC:8.0\n",
      "ARIMA(1, 0, 0)x(0, 0, 0, 12)12 -AIC:-23.65218028240765\n",
      "ARIMA(1, 0, 0)x(0, 0, 1, 12)12 -AIC:6.0\n",
      "ARIMA(1, 0, 0)x(0, 1, 0, 12)12 -AIC:4.0\n",
      "ARIMA(1, 0, 0)x(0, 1, 1, 12)12 -AIC:6.0\n",
      "ARIMA(1, 0, 0)x(1, 0, 0, 12)12 -AIC:6.0\n",
      "ARIMA(1, 0, 0)x(1, 0, 1, 12)12 -AIC:8.0\n",
      "ARIMA(1, 0, 0)x(1, 1, 0, 12)12 -AIC:6.0\n",
      "ARIMA(1, 0, 0)x(1, 1, 1, 12)12 -AIC:8.0\n",
      "ARIMA(1, 0, 1)x(0, 0, 0, 12)12 -AIC:-19.123603300035803\n",
      "ARIMA(1, 0, 1)x(0, 0, 1, 12)12 -AIC:8.0\n",
      "ARIMA(1, 0, 1)x(0, 1, 0, 12)12 -AIC:6.0\n",
      "ARIMA(1, 0, 1)x(0, 1, 1, 12)12 -AIC:8.0\n",
      "ARIMA(1, 0, 1)x(1, 0, 0, 12)12 -AIC:8.0\n",
      "ARIMA(1, 0, 1)x(1, 0, 1, 12)12 -AIC:10.0\n",
      "ARIMA(1, 0, 1)x(1, 1, 0, 12)12 -AIC:8.0\n",
      "ARIMA(1, 0, 1)x(1, 1, 1, 12)12 -AIC:10.0\n",
      "ARIMA(1, 1, 0)x(0, 0, 0, 12)12 -AIC:-13.152031475254944\n",
      "ARIMA(1, 1, 0)x(0, 0, 1, 12)12 -AIC:6.0\n",
      "ARIMA(1, 1, 0)x(0, 1, 0, 12)12 -AIC:4.0\n",
      "ARIMA(1, 1, 0)x(0, 1, 1, 12)12 -AIC:6.0\n",
      "ARIMA(1, 1, 0)x(1, 0, 0, 12)12 -AIC:6.0\n",
      "ARIMA(1, 1, 0)x(1, 0, 1, 12)12 -AIC:8.0\n",
      "ARIMA(1, 1, 0)x(1, 1, 0, 12)12 -AIC:6.0\n",
      "ARIMA(1, 1, 0)x(1, 1, 1, 12)12 -AIC:8.0\n",
      "ARIMA(1, 1, 1)x(0, 0, 0, 12)12 -AIC:-22.30212888794793\n",
      "ARIMA(1, 1, 1)x(0, 0, 1, 12)12 -AIC:8.0\n",
      "ARIMA(1, 1, 1)x(0, 1, 0, 12)12 -AIC:6.0\n",
      "ARIMA(1, 1, 1)x(0, 1, 1, 12)12 -AIC:8.0\n",
      "ARIMA(1, 1, 1)x(1, 0, 0, 12)12 -AIC:8.0\n",
      "ARIMA(1, 1, 1)x(1, 0, 1, 12)12 -AIC:10.0\n",
      "ARIMA(1, 1, 1)x(1, 1, 0, 12)12 -AIC:8.0\n",
      "ARIMA(1, 1, 1)x(1, 1, 1, 12)12 -AIC:10.0\n"
     ]
    }
   ],
   "source": [
    "from pylab import rcParams\n",
    "for param in pdq:\n",
    "    for param_seasonal in seasonal_pdq:\n",
    "        try:\n",
    "            mod=sm.tsa.statespace.SARIMAX(y,order=param,\n",
    "seasonal_order=param_seasonal,\n",
    "enforce_stationarity=False,\n",
    "enforce_invertibility=False)\n",
    "            results=mod.fit()\n",
    "            print('ARIMA{}x{}12 -AIC:{}'.format(param,param_seasonal,results.aic))\n",
    "        except:\n",
    "            continue"
   ]
  },
  {
   "cell_type": "code",
   "execution_count": 22,
   "id": "800016b7",
   "metadata": {},
   "outputs": [
    {
     "name": "stdout",
     "output_type": "stream",
     "text": [
      "-23.65218028240765\n"
     ]
    }
   ],
   "source": [
    "from pylab import rcParams\n",
    "a=[]\n",
    "for param in pdq:\n",
    "    for param_seasonal in seasonal_pdq:\n",
    "        try:\n",
    "            mod=sm.tsa.statespace.SARIMAX(y,order=param,\n",
    "seasonal_order=param_seasonal,\n",
    "enforce_stationarity=False,\n",
    "enforce_invertibility=False)\n",
    "            results=mod.fit()\n",
    "            a.append(results.aic)\n",
    "        except:\n",
    "            continue\n",
    "print(min(a))#(1, 0, 0)x(0, 0, 0, 12)"
   ]
  },
  {
   "cell_type": "code",
   "execution_count": 23,
   "id": "d9213cc4",
   "metadata": {},
   "outputs": [
    {
     "name": "stdout",
     "output_type": "stream",
     "text": [
      "==============================================================================\n",
      "                 coef    std err          z      P>|z|      [0.025      0.975]\n",
      "------------------------------------------------------------------------------\n",
      "ar.L1          0.9997      0.002    407.501      0.000       0.995       1.005\n",
      "sigma2         0.0180      0.009      1.960      0.050     2.8e-06       0.036\n",
      "==============================================================================\n"
     ]
    }
   ],
   "source": [
    "mod=sm.tsa.statespace.SARIMAX(y,\n",
    "                             order=(1,0,0),\n",
    "                             seasonal_order=(0,0,0,12),\n",
    "                             enforce_invertibility=False)\n",
    "results=mod.fit()\n",
    "print(results.summary().tables[1])"
   ]
  },
  {
   "cell_type": "code",
   "execution_count": 24,
   "id": "6605b8c4",
   "metadata": {},
   "outputs": [
    {
     "data": {
      "image/png": "[encoded data removed]",
      "text/plain": [
       "<Figure size 1008x504 with 1 Axes>"
      ]
     },
     "metadata": {
      "needs_background": "light"
     },
     "output_type": "display_data"
    }
   ],
   "source": [
    "#set forecasts to start at 1949-12-31 to the end of the data of forecast\n",
    "pred=results.get_prediction(start=pd.to_datetime('1949-12-31'),dynamic=False)\n",
    "pred_ci=pred.conf_int()\n",
    "ax=y['1949':].plot(label='observed')\n",
    "pred.predicted_mean.plot(ax=ax,label='one-step ahead forest',alpha=0.7,figsize=(14,7))\n",
    "ax.fill_between(pred_ci.index,\n",
    "               pred_ci.iloc[:,0],\n",
    "               pred_ci.iloc[:,1],color='k',alpha=0.2)\n",
    "ax.set_xlabel('Date')\n",
    "ax.set_ylabel('No.of Passengers')\n",
    "plt.legend()\n",
    "plt.show()"
   ]
  },
  {
   "cell_type": "code",
   "execution_count": 25,
   "id": "56e60ca0",
   "metadata": {},
   "outputs": [
    {
     "name": "stdout",
     "output_type": "stream",
     "text": [
      "            lower No.of Passengers  upper No.of Passengers\n",
      "1961-12-31                5.876786                6.402587\n",
      "1962-12-31                5.766139                6.509626\n",
      "1963-12-31                5.680856                6.591303\n",
      "1964-12-31                5.608707                6.659847\n",
      "1965-12-31                5.544956                6.719994\n",
      "1966-12-31                5.487173                6.774173\n",
      "1967-12-31                5.433915                6.823830\n",
      "1968-12-31                5.384240                6.869903\n",
      "1969-12-31                5.337495                6.913048\n",
      "1970-12-31                5.293205                6.953740\n",
      "1971-12-31                5.251009                6.992337\n",
      "1972-12-31                5.210629                7.029120\n",
      "1973-12-31                5.171843                7.064311\n"
     ]
    },
    {
     "data": {
      "image/png": "[encoded data removed]",
      "text/plain": [
       "<Figure size 1008x504 with 1 Axes>"
      ]
     },
     "metadata": {
      "needs_background": "light"
     },
     "output_type": "display_data"
    }
   ],
   "source": [
    " pred_uc=results.get_forecast(steps=13)\n",
    "pred_ci=pred_uc.conf_int()\n",
    "ax=y.plot(label=\"observed\",figsize=(14,7))\n",
    "pred_uc.predicted_mean.plot(ax=ax,label=\"Forecast\")\n",
    "ax.fill_between(pred_ci.index,\n",
    "               pred_ci.iloc[:,0],\n",
    "               pred_ci.iloc[:,1],color=\"k\",alpha=.2)\n",
    "ax.set_xlabel(\"Date\")\n",
    "ax.set_ylabel(\"No.of Passengers\")\n",
    "print(pred_ci)\n",
    "plt.legend()\n",
    "plt.show()"
   ]
  },
  {
   "cell_type": "markdown",
   "id": "0defc754",
   "metadata": {},
   "source": [
    "### Count of Passengers were increased till 1960 and becomes constant next few years."
   ]
  },
  {
   "cell_type": "code",
   "execution_count": null,
   "id": "c86ccf24",
   "metadata": {},
   "outputs": [],
   "source": []
  }
 ],
 "metadata": {
  "kernelspec": {
   "display_name": "Python 3 (ipykernel)",
   "language": "python",
   "name": "python3"
  },
  "language_info": {
   "codemirror_mode": {
    "name": "ipython",
    "version": 3
   },
   "file_extension": ".py",
   "mimetype": "text/x-python",
   "name": "python",
   "nbconvert_exporter": "python",
   "pygments_lexer": "ipython3",
   "version": "3.9.7"
  }
 },
 "nbformat": 4,
 "nbformat_minor": 5
}
